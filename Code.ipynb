{
  "cells": [
    {
      "cell_type": "markdown",
      "metadata": {
        "id": "view-in-github",
        "colab_type": "text"
      },
      "source": [
        "<a href=\"https://colab.research.google.com/github/ahmedbasemdev/Neural-Machine-Translation/blob/main/Code.ipynb\" target=\"_parent\"><img src=\"https://colab.research.google.com/assets/colab-badge.svg\" alt=\"Open In Colab\"/></a>"
      ]
    },
    {
      "cell_type": "markdown",
      "metadata": {
        "id": "HcqK9LEQTxE9"
      },
      "source": [
        "# Machine Translation\n",
        "    \n",
        "    \n",
        "Our model consists of two parts : An encoder which maps source-text into a vector \" summarizes text's content \" , which is the input to second part decoder which decodes the vector to destination-text"
      ]
    },
    {
      "cell_type": "code",
      "execution_count": null,
      "metadata": {
        "colab": {
          "base_uri": "https://localhost:8080/"
        },
        "id": "QXl5ETG4Grrw",
        "outputId": "c6c35831-f908-4f5d-c94e-26556cc2e335"
      },
      "outputs": [
        {
          "output_type": "stream",
          "name": "stdout",
          "text": [
            "Mounted at /content/drive/\n"
          ]
        }
      ],
      "source": [
        "from google.colab import drive\n",
        "drive.mount('/content/drive/')"
      ]
    },
    {
      "cell_type": "code",
      "execution_count": null,
      "metadata": {
        "colab": {
          "base_uri": "https://localhost:8080/"
        },
        "id": "hf3xnIN_IWV1",
        "outputId": "4a7ce476-120a-4341-d69d-20986effa1cd"
      },
      "outputs": [
        {
          "output_type": "stream",
          "name": "stdout",
          "text": [
            "/content/drive/MyDrive/Machine Translation\n"
          ]
        }
      ],
      "source": [
        "cd \"/content/drive/MyDrive/Machine Translation\""
      ]
    },
    {
      "cell_type": "code",
      "execution_count": null,
      "metadata": {
        "id": "03U7z5OiIj8U",
        "colab": {
          "base_uri": "https://localhost:8080/"
        },
        "outputId": "5a7ccf6c-f54a-4a64-bbd4-341864dce71d"
      },
      "outputs": [
        {
          "output_type": "stream",
          "name": "stdout",
          "text": [
            "21_checkpoint.h5  Code.ipynb  europarl-v7.da-en.da  model.png  \u001b[0m\u001b[01;34mtblogs\u001b[0m/\n",
            "\u001b[01;34m21_logs\u001b[0m/          da-en.tar   europarl-v7.da-en.en  README.md\n"
          ]
        }
      ],
      "source": [
        "ls"
      ]
    },
    {
      "cell_type": "markdown",
      "metadata": {
        "id": "9agAhzFVTxE_"
      },
      "source": [
        "## Imports"
      ]
    },
    {
      "cell_type": "code",
      "execution_count": null,
      "metadata": {
        "id": "mfvLd9LcTxE_"
      },
      "outputs": [],
      "source": [
        "import os\n",
        "import math\n",
        "import numpy as np\n",
        "import matplotlib.pyplot as plt\n",
        "import tensorflow as tf\n",
        "%matplotlib inline"
      ]
    },
    {
      "cell_type": "code",
      "execution_count": null,
      "metadata": {
        "id": "I5b008j-TxFA"
      },
      "outputs": [],
      "source": [
        "from tensorflow.keras.models import Model , load_model\n",
        "from tensorflow.keras.layers import Input , Dense, GRU , Embedding\n",
        "from tensorflow.keras.optimizers import RMSprop\n",
        "from tensorflow.keras.callbacks import EarlyStopping , ModelCheckpoint , TensorBoard\n",
        "from tensorflow.keras.preprocessing.text import Tokenizer\n",
        "from tensorflow.keras.preprocessing.sequence import pad_sequences"
      ]
    },
    {
      "cell_type": "code",
      "execution_count": null,
      "metadata": {
        "colab": {
          "base_uri": "https://localhost:8080/",
          "height": 35
        },
        "id": "DAMLxgYyTxFA",
        "outputId": "8c6df0a7-805d-4a02-c5c7-574185839a16"
      },
      "outputs": [
        {
          "output_type": "execute_result",
          "data": {
            "text/plain": [
              "'2.8.2'"
            ],
            "application/vnd.google.colaboratory.intrinsic+json": {
              "type": "string"
            }
          },
          "metadata": {},
          "execution_count": 12
        }
      ],
      "source": [
        "tf.__version__"
      ]
    },
    {
      "cell_type": "code",
      "execution_count": null,
      "metadata": {
        "colab": {
          "base_uri": "https://localhost:8080/",
          "height": 35
        },
        "id": "UFm-hvLNTxFB",
        "outputId": "e9a8adca-8763-4300-eb6e-36a4127a70ec"
      },
      "outputs": [
        {
          "output_type": "execute_result",
          "data": {
            "text/plain": [
              "'2.8.0'"
            ],
            "application/vnd.google.colaboratory.intrinsic+json": {
              "type": "string"
            }
          },
          "metadata": {},
          "execution_count": 13
        }
      ],
      "source": [
        "tf.keras.__version__"
      ]
    },
    {
      "cell_type": "markdown",
      "metadata": {
        "id": "hjoyWrHDTxFB"
      },
      "source": [
        "## Load Data "
      ]
    },
    {
      "cell_type": "code",
      "execution_count": null,
      "metadata": {
        "id": "2tIVSPECTxFB"
      },
      "outputs": [],
      "source": [
        "startMark = \"ssss \"\n",
        "endMark = \" eeee\""
      ]
    },
    {
      "cell_type": "code",
      "execution_count": null,
      "metadata": {
        "id": "bQnTz653UXhO"
      },
      "outputs": [],
      "source": [
        "#!wget https://www.statmt.org/europarl/v7/da-en.tgz"
      ]
    },
    {
      "cell_type": "code",
      "execution_count": null,
      "metadata": {
        "id": "gS24ZNwPU1eC"
      },
      "outputs": [],
      "source": [
        "#!gunzip \"/content/drive/MyDrive/Machine Translation/da-en.tgz\"\n",
        "#!tar -xvf \"/content/drive/MyDrive/Machine Translation/da-en.tar\""
      ]
    },
    {
      "cell_type": "code",
      "execution_count": null,
      "metadata": {
        "id": "XGGTkK3tTxFC"
      },
      "outputs": [],
      "source": [
        "with open('/content/drive/MyDrive/Machine Translation/europarl-v7.da-en.da',encoding='utf-8') as f:\n",
        "    dataSrc = [ line.strip() for line in f ]"
      ]
    },
    {
      "cell_type": "code",
      "execution_count": null,
      "metadata": {
        "id": "Eggy8iIcTxFD"
      },
      "outputs": [],
      "source": [
        "with open('/content/drive/MyDrive/Machine Translation/europarl-v7.da-en.en',encoding='utf-8') as f:\n",
        "    dataDest = [startMark + line.strip() + endMark for line in f ]"
      ]
    },
    {
      "cell_type": "code",
      "execution_count": null,
      "metadata": {
        "colab": {
          "base_uri": "https://localhost:8080/"
        },
        "id": "tNRcH1sia6JX",
        "outputId": "bb46f9f9-6759-460a-83a3-f0e123873a0f"
      },
      "outputs": [
        {
          "output_type": "execute_result",
          "data": {
            "text/plain": [
              "1968800"
            ]
          },
          "metadata": {},
          "execution_count": 223
        }
      ],
      "source": [
        "len(dataSrc)"
      ]
    },
    {
      "cell_type": "markdown",
      "metadata": {
        "id": "tLmK_6PEo-ER"
      },
      "source": [
        "Our data takes 30 hour per epoch to train , which is very much time , so we slice our data and take first 50000 line"
      ]
    },
    {
      "cell_type": "code",
      "execution_count": null,
      "metadata": {
        "id": "Wf50LGZZbQ5B",
        "colab": {
          "base_uri": "https://localhost:8080/"
        },
        "outputId": "3bf76708-6e5b-4a1a-ce0a-98b46c60713e"
      },
      "outputs": [
        {
          "output_type": "execute_result",
          "data": {
            "text/plain": [
              "492200"
            ]
          },
          "metadata": {},
          "execution_count": 284
        }
      ],
      "source": [
        "numberofLines = int(len(dataSrc) / 4)\n",
        "numberofLines"
      ]
    },
    {
      "cell_type": "code",
      "execution_count": null,
      "metadata": {
        "id": "lFfYs4EabO3H"
      },
      "outputs": [],
      "source": [
        "dataSrc = dataSrc[:numberofLines]"
      ]
    },
    {
      "cell_type": "code",
      "execution_count": null,
      "metadata": {
        "id": "k-HUO0dLbUpG"
      },
      "outputs": [],
      "source": [
        "dataDest = dataDest[:numberofLines]"
      ]
    },
    {
      "cell_type": "code",
      "execution_count": null,
      "metadata": {
        "colab": {
          "base_uri": "https://localhost:8080/",
          "height": 53
        },
        "id": "R4ljijjeTxFD",
        "outputId": "3d4ec83f-da60-45c1-8424-34b6fbc6cab0"
      },
      "outputs": [
        {
          "output_type": "execute_result",
          "data": {
            "text/plain": [
              "'Som De kan se, indfandt det store \"år 2000-problem\" sig ikke. Til gengæld har borgerne i en del af medlemslandene været ramt af meget forfærdelige naturkatastrofer.'"
            ],
            "application/vnd.google.colaboratory.intrinsic+json": {
              "type": "string"
            }
          },
          "metadata": {},
          "execution_count": 287
        }
      ],
      "source": [
        "dataSrc[2]"
      ]
    },
    {
      "cell_type": "code",
      "execution_count": null,
      "metadata": {
        "colab": {
          "base_uri": "https://localhost:8080/",
          "height": 53
        },
        "id": "MEgTZQv4TxFD",
        "outputId": "ac1099a2-9f3b-45e0-cbab-5d11488c3a16"
      },
      "outputs": [
        {
          "output_type": "execute_result",
          "data": {
            "text/plain": [
              "\"ssss Although, as you will have seen, the dreaded 'millennium bug' failed to materialise, still the people in a number of countries suffered a series of natural disasters that truly were dreadful. eeee\""
            ],
            "application/vnd.google.colaboratory.intrinsic+json": {
              "type": "string"
            }
          },
          "metadata": {},
          "execution_count": 288
        }
      ],
      "source": [
        "dataDest[2]"
      ]
    },
    {
      "cell_type": "markdown",
      "metadata": {
        "id": "csXvPPuuTxFE"
      },
      "source": [
        "We need a few more functions than provided by Keras' Tokenizer-class so we wrap it.\n"
      ]
    },
    {
      "cell_type": "code",
      "execution_count": null,
      "metadata": {
        "id": "m2QW2eepTxFE"
      },
      "outputs": [],
      "source": [
        "num_words = 10000"
      ]
    },
    {
      "cell_type": "code",
      "execution_count": null,
      "metadata": {
        "id": "RRRxOWjqTxFE"
      },
      "outputs": [],
      "source": [
        "class TokenizerWrap(Tokenizer):\n",
        "    \n",
        "    def __init__(self,texts,padding , reverse=False, num_words=None):\n",
        "        \n",
        "        \n",
        "        Tokenizer.__init__(self,num_words=num_words)\n",
        "        \n",
        "        self.fit_on_texts(texts)\n",
        "        \n",
        "        self.index_to_word = dict(zip(self.word_index.values(),\n",
        "                                      self.word_index.keys()))\n",
        "        \n",
        "        self.tokens = self.texts_to_sequences(texts)\n",
        "        \n",
        "        \n",
        "        if reverse :\n",
        "            # reversing token-sequence\n",
        "            self.tokens = [list(reversed(x)) for x in self.tokens]\n",
        "            # sequence that are too long should be trucated at the beginning\n",
        "            # \"which correspond to the end of original sequence\" \n",
        "            truncating = 'pre'\n",
        "        else:\n",
        "            # sequence that are too long should be trucated at the end\n",
        "            truncating = 'post'\n",
        "        self.numTokens = [len(x) for x in self.tokens]\n",
        "        # mean + 2 * std = Around 95% \"only have to truncate 5% of all sequences\"\n",
        "        self.maxTokens = np.mean(self.numTokens) + 2 * np.std(self.numTokens)\n",
        "        \n",
        "        self.maxTokens = int(self.maxTokens)\n",
        "        \n",
        "        self.tokenPadded = pad_sequences(self.tokens , maxlen = self.maxTokens ,\n",
        "                                         padding = padding ,truncating=truncating)\n",
        "        \n",
        "    def token_to_word(self,token):\n",
        "        \"\"\" Lookup a single word from a token\n",
        "        \"\"\"\n",
        "        return \" \" if token ==0 else self.index_to_word[token]\n",
        "        \n",
        "    def tokens_to_string(self,tokens):\n",
        "        \"\"\"Convert a list of tokens to a string\"\"\"\n",
        "        text = [self.index_to_word[token] \n",
        "                    for token in tokens\n",
        "                    if token != 0]\n",
        "        text = \" \".join(text)\n",
        "        return text\n",
        "\n",
        "    def text_to_tokens(self,text,reverse=False, padding=False):\n",
        "        \"\"\"Convert a string to a list of tokens\"\"\"\n",
        "        tokens = self.texts_to_sequences([text])\n",
        "        tokens = np.array(tokens)\n",
        "\n",
        "        if reverse:\n",
        "            tokens =np.flip(tokens, axis = 1)\n",
        "\n",
        "            truncating = 'pre'\n",
        "        else:\n",
        "            truncating = 'post'\n",
        "\n",
        "        if padding :\n",
        "            tokens = pad_sequences(tokens , maxlen=self.maxTokens ,\n",
        "                                   truncating=truncating ,padding='pre')\n",
        "\n",
        "        return tokens\n"
      ]
    },
    {
      "cell_type": "markdown",
      "metadata": {
        "id": "z3abCgmJTxFF"
      },
      "source": [
        "Note that we pad zeros at the beginning ('pre') of the sequences. We also reverse the sequences of tokens because the research literature suggests that this might improve performance, because the last words seen by the encoder match the first words produced by the decoder, so short-term dependencies are supposedly modelled more accurately."
      ]
    },
    {
      "cell_type": "code",
      "execution_count": null,
      "metadata": {
        "colab": {
          "base_uri": "https://localhost:8080/"
        },
        "id": "vnRrzDPFTxFF",
        "outputId": "9a6561d4-d61d-4ce3-9373-e81e20af952c"
      },
      "outputs": [
        {
          "output_type": "stream",
          "name": "stdout",
          "text": [
            "CPU times: user 32.4 s, sys: 276 ms, total: 32.7 s\n",
            "Wall time: 32.6 s\n"
          ]
        }
      ],
      "source": [
        "%%time\n",
        "tokenizerSrc = TokenizerWrap(texts=dataSrc,\n",
        "                              padding='pre',\n",
        "                              reverse=True,\n",
        "                              num_words=num_words)"
      ]
    },
    {
      "cell_type": "code",
      "execution_count": null,
      "metadata": {
        "colab": {
          "base_uri": "https://localhost:8080/"
        },
        "id": "cl_bd4erTxFG",
        "outputId": "1241c60c-e12a-4114-ba67-4ac9da47d751"
      },
      "outputs": [
        {
          "output_type": "stream",
          "name": "stdout",
          "text": [
            "CPU times: user 22.7 s, sys: 258 ms, total: 22.9 s\n",
            "Wall time: 23.1 s\n"
          ]
        }
      ],
      "source": [
        "%%time\n",
        "tokenizerDest = TokenizerWrap(texts=dataDest,\n",
        "                              padding='post',\n",
        "                              reverse=False,\n",
        "                              num_words=num_words)"
      ]
    },
    {
      "cell_type": "code",
      "execution_count": null,
      "metadata": {
        "colab": {
          "base_uri": "https://localhost:8080/"
        },
        "id": "MSUWeXL6TxFG",
        "outputId": "6c18106d-dd9e-4711-de41-28552c80fab1"
      },
      "outputs": [
        {
          "output_type": "stream",
          "name": "stdout",
          "text": [
            "The shape of Source tokens is (492200, 49)\n",
            "The shape of Destination tokens is (492200, 57)\n"
          ]
        }
      ],
      "source": [
        "tokenSrc = tokenizerSrc.tokenPadded\n",
        "tokenDest = tokenizerDest.tokenPadded\n",
        "print(f'The shape of Source tokens is {tokenSrc.shape}')\n",
        "print(f'The shape of Destination tokens is {tokenDest.shape}')"
      ]
    },
    {
      "cell_type": "code",
      "execution_count": null,
      "metadata": {
        "colab": {
          "base_uri": "https://localhost:8080/",
          "height": 35
        },
        "id": "5hxbUiSnTxFH",
        "outputId": "f87047f6-e14f-4ed2-9f6f-00284fa0873b"
      },
      "outputs": [
        {
          "output_type": "execute_result",
          "data": {
            "text/plain": [
              "'ssss'"
            ],
            "application/vnd.google.colaboratory.intrinsic+json": {
              "type": "string"
            }
          },
          "metadata": {},
          "execution_count": 294
        }
      ],
      "source": [
        "startMark.strip()"
      ]
    },
    {
      "cell_type": "code",
      "execution_count": null,
      "metadata": {
        "colab": {
          "base_uri": "https://localhost:8080/"
        },
        "id": "INmI7iOuTxFH",
        "outputId": "b9ae1be2-10aa-4891-95d0-abe2c8ea7c54"
      },
      "outputs": [
        {
          "output_type": "execute_result",
          "data": {
            "text/plain": [
              "2"
            ]
          },
          "metadata": {},
          "execution_count": 295
        }
      ],
      "source": [
        "startToken = tokenizerDest.word_index[startMark.strip()]\n",
        "startToken"
      ]
    },
    {
      "cell_type": "markdown",
      "metadata": {
        "id": "WRkpjXWvTxFH"
      },
      "source": [
        "This is the integer used to mark the beginning of the sentence in destination language"
      ]
    },
    {
      "cell_type": "code",
      "execution_count": null,
      "metadata": {
        "colab": {
          "base_uri": "https://localhost:8080/"
        },
        "id": "g8Ft3FijTxFI",
        "outputId": "65c206ad-e0d4-4b6d-da80-4a279da4bff1"
      },
      "outputs": [
        {
          "output_type": "execute_result",
          "data": {
            "text/plain": [
              "3"
            ]
          },
          "metadata": {},
          "execution_count": 296
        }
      ],
      "source": [
        "endToken = tokenizerDest.word_index[endMark.strip()]\n",
        "endToken"
      ]
    },
    {
      "cell_type": "markdown",
      "metadata": {
        "id": "fdLJBeh0TxFI"
      },
      "source": [
        "### Example of Tokens "
      ]
    },
    {
      "cell_type": "code",
      "execution_count": null,
      "metadata": {
        "id": "wjRB6c5_TxFI"
      },
      "outputs": [],
      "source": [
        "idx = 2"
      ]
    },
    {
      "cell_type": "code",
      "execution_count": null,
      "metadata": {
        "colab": {
          "base_uri": "https://localhost:8080/"
        },
        "id": "sQpC3pECTxFI",
        "outputId": "910692a5-beda-4aa1-a1d4-2356f110c352"
      },
      "outputs": [
        {
          "output_type": "execute_result",
          "data": {
            "text/plain": [
              "array([   0,    0,    0,    0,    0,    0,    0,    0,    0,    0,    0,\n",
              "          0,    0,    0,    0,    0,    0,    0,    0,    0,    0,    0,\n",
              "          0, 4679, 2923,   42,    7, 1676,  104, 1637,    7,  172,   10,\n",
              "          3,  324,   20, 1649,    8,   19,   36,  298,  263,   67,  136,\n",
              "          5,  198,   24,    9,   11], dtype=int32)"
            ]
          },
          "metadata": {},
          "execution_count": 298
        }
      ],
      "source": [
        "tokenSrc[idx]"
      ]
    },
    {
      "cell_type": "markdown",
      "metadata": {
        "id": "Klqw5fb0TxFI"
      },
      "source": [
        "Note how it is padded with zero at the beginning"
      ]
    },
    {
      "cell_type": "code",
      "execution_count": null,
      "metadata": {
        "colab": {
          "base_uri": "https://localhost:8080/",
          "height": 35
        },
        "id": "1cHUO9x6TxFJ",
        "outputId": "59259215-e4e4-4db2-abf7-c5caf70763a3"
      },
      "outputs": [
        {
          "output_type": "execute_result",
          "data": {
            "text/plain": [
              "'naturkatastrofer forfærdelige meget af ramt været medlemslandene af del en i borgerne har gengæld til ikke sig problem 2000 år store det se kan de som'"
            ],
            "application/vnd.google.colaboratory.intrinsic+json": {
              "type": "string"
            }
          },
          "metadata": {},
          "execution_count": 299
        }
      ],
      "source": [
        "tokenizerSrc.tokens_to_string(tokenSrc[idx])"
      ]
    },
    {
      "cell_type": "code",
      "execution_count": null,
      "metadata": {
        "colab": {
          "base_uri": "https://localhost:8080/",
          "height": 53
        },
        "id": "g8gGYzMJTxFJ",
        "outputId": "76338bdd-41f5-435e-f7ff-c00b02c8f7d4"
      },
      "outputs": [
        {
          "output_type": "execute_result",
          "data": {
            "text/plain": [
              "'Som De kan se, indfandt det store \"år 2000-problem\" sig ikke. Til gengæld har borgerne i en del af medlemslandene været ramt af meget forfærdelige naturkatastrofer.'"
            ],
            "application/vnd.google.colaboratory.intrinsic+json": {
              "type": "string"
            }
          },
          "metadata": {},
          "execution_count": 300
        }
      ],
      "source": [
        "dataSrc[idx]"
      ]
    },
    {
      "cell_type": "code",
      "execution_count": null,
      "metadata": {
        "colab": {
          "base_uri": "https://localhost:8080/"
        },
        "id": "b2Pz6HL9TxFJ",
        "outputId": "3126d564-cb99-4ee2-aa4b-6df6f1999311"
      },
      "outputs": [
        {
          "output_type": "execute_result",
          "data": {
            "text/plain": [
              "array([   2,  347,   19,   43,   26,   20,  601,    1, 1502,    5,  167,\n",
              "          1,   81,    7,   10,  204,    4,   67, 2270,   10, 1441,    4,\n",
              "       1158, 2020,    8, 1608,  109, 5018,    3,    0,    0,    0,    0,\n",
              "          0,    0,    0,    0,    0,    0,    0,    0,    0,    0,    0,\n",
              "          0,    0,    0,    0,    0,    0,    0,    0,    0,    0,    0,\n",
              "          0,    0], dtype=int32)"
            ]
          },
          "metadata": {},
          "execution_count": 301
        }
      ],
      "source": [
        "tokenDest[idx]"
      ]
    },
    {
      "cell_type": "code",
      "execution_count": null,
      "metadata": {
        "colab": {
          "base_uri": "https://localhost:8080/",
          "height": 53
        },
        "id": "85P2LHfBTxFJ",
        "outputId": "ad6809f1-5ba3-4b25-d91a-e2e899f1b22f"
      },
      "outputs": [
        {
          "output_type": "execute_result",
          "data": {
            "text/plain": [
              "'ssss although as you will have seen the failed to still the people in a number of countries suffered a series of natural disasters that truly were dreadful eeee'"
            ],
            "application/vnd.google.colaboratory.intrinsic+json": {
              "type": "string"
            }
          },
          "metadata": {},
          "execution_count": 302
        }
      ],
      "source": [
        "tokenizerDest.tokens_to_string(tokenDest[idx])"
      ]
    },
    {
      "cell_type": "code",
      "execution_count": null,
      "metadata": {
        "colab": {
          "base_uri": "https://localhost:8080/",
          "height": 53
        },
        "id": "1R9zpdfjTxFJ",
        "outputId": "f75543a6-57a5-43f3-bf2c-5703476e77c9"
      },
      "outputs": [
        {
          "output_type": "execute_result",
          "data": {
            "text/plain": [
              "\"ssss Although, as you will have seen, the dreaded 'millennium bug' failed to materialise, still the people in a number of countries suffered a series of natural disasters that truly were dreadful. eeee\""
            ],
            "application/vnd.google.colaboratory.intrinsic+json": {
              "type": "string"
            }
          },
          "metadata": {},
          "execution_count": 303
        }
      ],
      "source": [
        "dataDest[idx]"
      ]
    },
    {
      "cell_type": "code",
      "source": [
        "tokenizerSrc.text_to_tokens(dataSrc[3])"
      ],
      "metadata": {
        "colab": {
          "base_uri": "https://localhost:8080/"
        },
        "id": "5MNfCjZZ9CFi",
        "outputId": "5607886a-1c83-498b-f229-2a83803a2e5c"
      },
      "execution_count": null,
      "outputs": [
        {
          "output_type": "execute_result",
          "data": {
            "text/plain": [
              "array([[   9,   20, 2365,  549,   16,   10,  351,   16,   30,  445,    3,\n",
              "         806,    7, 6457]])"
            ]
          },
          "metadata": {},
          "execution_count": 304
        }
      ]
    },
    {
      "cell_type": "markdown",
      "metadata": {
        "id": "yw66TRV8TxFK"
      },
      "source": [
        "## Training Data"
      ]
    },
    {
      "cell_type": "code",
      "execution_count": null,
      "metadata": {
        "colab": {
          "base_uri": "https://localhost:8080/"
        },
        "id": "8USUvna_TxFK",
        "outputId": "a57374ce-2cbb-42f9-f6d0-d6fa94f7c905"
      },
      "outputs": [
        {
          "output_type": "execute_result",
          "data": {
            "text/plain": [
              "(492200, 49)"
            ]
          },
          "metadata": {},
          "execution_count": 305
        }
      ],
      "source": [
        "encoderInputData = tokenSrc\n",
        "encoderInputData.shape"
      ]
    },
    {
      "cell_type": "code",
      "execution_count": null,
      "metadata": {
        "colab": {
          "base_uri": "https://localhost:8080/"
        },
        "id": "VtC2zT_2TxFK",
        "outputId": "0b8d0911-c149-4fdb-80bd-32de71f91350"
      },
      "outputs": [
        {
          "output_type": "execute_result",
          "data": {
            "text/plain": [
              "(492200, 56)"
            ]
          },
          "metadata": {},
          "execution_count": 306
        }
      ],
      "source": [
        "decoderInputData = tokenDest[:,:-1]\n",
        "decoderInputData.shape"
      ]
    },
    {
      "cell_type": "code",
      "execution_count": null,
      "metadata": {
        "colab": {
          "base_uri": "https://localhost:8080/"
        },
        "id": "UR-gobtzTxFK",
        "outputId": "45549895-096f-4476-f1f4-f13d46bc82bb"
      },
      "outputs": [
        {
          "output_type": "execute_result",
          "data": {
            "text/plain": [
              "(492200, 56)"
            ]
          },
          "metadata": {},
          "execution_count": 307
        }
      ],
      "source": [
        "decoderOutData = tokenDest[:,1:]\n",
        "decoderOutData.shape"
      ]
    },
    {
      "cell_type": "code",
      "execution_count": null,
      "metadata": {
        "id": "O3VZNl0VTxFK"
      },
      "outputs": [],
      "source": [
        "idx = 2"
      ]
    },
    {
      "cell_type": "code",
      "execution_count": null,
      "metadata": {
        "colab": {
          "base_uri": "https://localhost:8080/"
        },
        "id": "fQ_ZlJdUTxFL",
        "outputId": "a938ac0f-16e9-4fb6-8f99-17e0d9b910d0"
      },
      "outputs": [
        {
          "output_type": "execute_result",
          "data": {
            "text/plain": [
              "array([   2,  347,   19,   43,   26,   20,  601,    1, 1502,    5,  167,\n",
              "          1,   81,    7,   10,  204,    4,   67, 2270,   10, 1441,    4,\n",
              "       1158, 2020,    8, 1608,  109, 5018,    3,    0,    0,    0,    0,\n",
              "          0,    0,    0,    0,    0,    0,    0,    0,    0,    0,    0,\n",
              "          0,    0,    0,    0,    0,    0,    0,    0,    0,    0,    0,\n",
              "          0], dtype=int32)"
            ]
          },
          "metadata": {},
          "execution_count": 309
        }
      ],
      "source": [
        "decoderInputData[idx]"
      ]
    },
    {
      "cell_type": "code",
      "execution_count": null,
      "metadata": {
        "colab": {
          "base_uri": "https://localhost:8080/"
        },
        "id": "_am0LxXfTxFL",
        "outputId": "2d046805-b550-449b-8cdc-4ff063510ba6"
      },
      "outputs": [
        {
          "output_type": "execute_result",
          "data": {
            "text/plain": [
              "array([ 347,   19,   43,   26,   20,  601,    1, 1502,    5,  167,    1,\n",
              "         81,    7,   10,  204,    4,   67, 2270,   10, 1441,    4, 1158,\n",
              "       2020,    8, 1608,  109, 5018,    3,    0,    0,    0,    0,    0,\n",
              "          0,    0,    0,    0,    0,    0,    0,    0,    0,    0,    0,\n",
              "          0,    0,    0,    0,    0,    0,    0,    0,    0,    0,    0,\n",
              "          0], dtype=int32)"
            ]
          },
          "metadata": {},
          "execution_count": 310
        }
      ],
      "source": [
        "decoderOutData[idx]"
      ]
    },
    {
      "cell_type": "code",
      "execution_count": null,
      "metadata": {
        "colab": {
          "base_uri": "https://localhost:8080/",
          "height": 53
        },
        "id": "gpn44kETTxFL",
        "outputId": "9221acbe-9f09-4354-bb28-d14535669bcb"
      },
      "outputs": [
        {
          "output_type": "execute_result",
          "data": {
            "text/plain": [
              "'ssss although as you will have seen the failed to still the people in a number of countries suffered a series of natural disasters that truly were dreadful eeee'"
            ],
            "application/vnd.google.colaboratory.intrinsic+json": {
              "type": "string"
            }
          },
          "metadata": {},
          "execution_count": 311
        }
      ],
      "source": [
        "tokenizerDest.tokens_to_string(decoderInputData[idx])"
      ]
    },
    {
      "cell_type": "code",
      "execution_count": null,
      "metadata": {
        "colab": {
          "base_uri": "https://localhost:8080/",
          "height": 35
        },
        "id": "xpiN-XzZTxFL",
        "outputId": "e26f5fc9-8221-4f0c-b803-2ca3c5827a06"
      },
      "outputs": [
        {
          "output_type": "execute_result",
          "data": {
            "text/plain": [
              "'although as you will have seen the failed to still the people in a number of countries suffered a series of natural disasters that truly were dreadful eeee'"
            ],
            "application/vnd.google.colaboratory.intrinsic+json": {
              "type": "string"
            }
          },
          "metadata": {},
          "execution_count": 312
        }
      ],
      "source": [
        "tokenizerDest.tokens_to_string(decoderOutData[idx])"
      ]
    },
    {
      "cell_type": "markdown",
      "metadata": {
        "id": "2C_f1o2zTxFL"
      },
      "source": [
        "## Create the Nerual Network"
      ]
    },
    {
      "cell_type": "markdown",
      "metadata": {
        "id": "d6Rmysr5TxFL"
      },
      "source": [
        "### 1) Create the Encoder "
      ]
    },
    {
      "cell_type": "markdown",
      "metadata": {
        "id": "L6qrUKOKTxFL"
      },
      "source": [
        "first we create the encoder part of out neural network which maps a sequences of integer-tokens to a vector"
      ]
    },
    {
      "cell_type": "code",
      "execution_count": null,
      "metadata": {
        "id": "VVhfvpTITxFM"
      },
      "outputs": [],
      "source": [
        "encoderInput = Input(shape=(None,),name='encoderInput')"
      ]
    },
    {
      "cell_type": "code",
      "execution_count": null,
      "metadata": {
        "id": "BEd7mvy1TxFM"
      },
      "outputs": [],
      "source": [
        "embeddingSize = 128"
      ]
    },
    {
      "cell_type": "code",
      "execution_count": null,
      "metadata": {
        "id": "hnBon3TtTxFM"
      },
      "outputs": [],
      "source": [
        "encoderEmbedding = Embedding(input_dim=num_words , output_dim=embeddingSize\n",
        "                            ,name='encoder_embedding')"
      ]
    },
    {
      "cell_type": "code",
      "execution_count": null,
      "metadata": {
        "id": "h7r1IGFzTxFM"
      },
      "outputs": [],
      "source": [
        "stateSize = 512"
      ]
    },
    {
      "cell_type": "code",
      "execution_count": null,
      "metadata": {
        "id": "-uykAwOvTxFM"
      },
      "outputs": [],
      "source": [
        "encoderGru1 = GRU(stateSize , return_sequences=True , name='encoderGRU1')\n",
        "encoderGru2 = GRU(stateSize , return_sequences=True , name='encoderGRU2')\n",
        "encoderGru3 = GRU(stateSize , return_sequences=False , name='encoderGRU3')"
      ]
    },
    {
      "cell_type": "code",
      "execution_count": null,
      "metadata": {
        "id": "nv29u6UWTxFM"
      },
      "outputs": [],
      "source": [
        "def encoderConnection():\n",
        "    \n",
        "    # starts the neural network with input layer\n",
        "    net = encoderInput\n",
        "    \n",
        "    # conntect embedding layer\n",
        "    net = encoderEmbedding(net)\n",
        "    \n",
        "    # connect all GRU-Layers\n",
        "    net = encoderGru1(net)\n",
        "    net = encoderGru2(net)\n",
        "    net = encoderGru3(net)\n",
        "    # return the output of the encoder part\n",
        "    return net\n",
        "    "
      ]
    },
    {
      "cell_type": "code",
      "execution_count": null,
      "metadata": {
        "id": "JSUglG4KTxFN"
      },
      "outputs": [],
      "source": [
        "encoderOutput = encoderConnection()"
      ]
    },
    {
      "cell_type": "markdown",
      "metadata": {
        "id": "xDIDvD_8TxFN"
      },
      "source": [
        "### 2) Create the Decoder"
      ]
    },
    {
      "cell_type": "markdown",
      "metadata": {
        "id": "pwP91imQTxFN"
      },
      "source": [
        "The decoder takes two inputs , first it needs the vector produced by encoder"
      ]
    },
    {
      "cell_type": "code",
      "execution_count": null,
      "metadata": {
        "id": "hxpYbrF4TxFN"
      },
      "outputs": [],
      "source": [
        "decoderIntialState = Input(shape=(stateSize,),name='decoderIntialState')"
      ]
    },
    {
      "cell_type": "markdown",
      "metadata": {
        "id": "ehjat2snTxFN"
      },
      "source": [
        "second it needs a sequence of integer-tokens \"for desination\""
      ]
    },
    {
      "cell_type": "code",
      "execution_count": null,
      "metadata": {
        "id": "9zvvpzHaTxFN"
      },
      "outputs": [],
      "source": [
        "decoderInput = Input(shape=(None,),\n",
        "                              name='decoderInput')"
      ]
    },
    {
      "cell_type": "code",
      "execution_count": null,
      "metadata": {
        "id": "dLtMZ9zLTxFN"
      },
      "outputs": [],
      "source": [
        "decoderEmbedding = Embedding(input_dim = num_words,\n",
        "                            output_dim = embeddingSize,\n",
        "                            name='decoderEmbedding')"
      ]
    },
    {
      "cell_type": "code",
      "execution_count": null,
      "metadata": {
        "id": "qtnjsg0JTxFN"
      },
      "outputs": [],
      "source": [
        "decoderGru1 = GRU(stateSize , return_sequences=True , name='decoderGRU1')\n",
        "decoderGru2 = GRU(stateSize , return_sequences=True , name='decoderGRU2')\n",
        "decoderGru3 = GRU(stateSize , return_sequences=True , name='decoderGRU3')"
      ]
    },
    {
      "cell_type": "code",
      "execution_count": null,
      "metadata": {
        "id": "3hdJZItkTxFO"
      },
      "outputs": [],
      "source": [
        "decoderDense = Dense(num_words,\n",
        "                    activation='softmax',\n",
        "                    name='decoderOutput')"
      ]
    },
    {
      "cell_type": "code",
      "execution_count": null,
      "metadata": {
        "id": "Br8Yd0SNTxFO"
      },
      "outputs": [],
      "source": [
        "def decoderConnection(initailState_param):\n",
        "    net = decoderInput\n",
        "    \n",
        "    net = decoderEmbedding(net)\n",
        "    \n",
        "    net = decoderGru1(net,initial_state=initailState_param)\n",
        "    net = decoderGru2(net,initial_state=initailState_param)\n",
        "    net = decoderGru3(net,initial_state=initailState_param)\n",
        "    \n",
        "    output = decoderDense(net)\n",
        "    \n",
        "    return output"
      ]
    },
    {
      "cell_type": "code",
      "execution_count": null,
      "metadata": {
        "id": "H__J4oPuTxFO"
      },
      "outputs": [],
      "source": [
        "decoderOutput = decoderConnection(initailState_param=encoderOutput)"
      ]
    },
    {
      "cell_type": "code",
      "execution_count": null,
      "metadata": {
        "id": "WmB5IRBZTxFO"
      },
      "outputs": [],
      "source": [
        "modelTrain = Model(inputs=[encoderInput, decoderInput],\n",
        "                    outputs=[decoderOutput])\n"
      ]
    },
    {
      "cell_type": "code",
      "execution_count": null,
      "metadata": {
        "id": "MdQiXSflTxFO"
      },
      "outputs": [],
      "source": [
        "modelEncoder = Model(inputs=[encoderInput],outputs=[encoderOutput])"
      ]
    },
    {
      "cell_type": "code",
      "execution_count": null,
      "metadata": {
        "id": "vlIR0RWiTxFO"
      },
      "outputs": [],
      "source": [
        "decoderOutput = decoderConnection(decoderIntialState)\n",
        "\n",
        "decoderModel = Model(inputs=[decoderInput,decoderIntialState],\n",
        "                    outputs=[decoderOutput])"
      ]
    },
    {
      "cell_type": "code",
      "execution_count": null,
      "metadata": {
        "colab": {
          "base_uri": "https://localhost:8080/"
        },
        "id": "0pEyXXY9TxFO",
        "outputId": "bf6f1a6a-1a43-4774-bf22-9728042e3a11"
      },
      "outputs": [
        {
          "output_type": "stream",
          "name": "stdout",
          "text": [
            "Model: \"model_9\"\n",
            "__________________________________________________________________________________________________\n",
            " Layer (type)                   Output Shape         Param #     Connected to                     \n",
            "==================================================================================================\n",
            " encoderInput (InputLayer)      [(None, None)]       0           []                               \n",
            "                                                                                                  \n",
            " encoder_embedding (Embedding)  (None, None, 128)    1280000     ['encoderInput[0][0]']           \n",
            "                                                                                                  \n",
            " encoderGRU1 (GRU)              (None, None, 512)    986112      ['encoder_embedding[0][0]']      \n",
            "                                                                                                  \n",
            " decoderInput (InputLayer)      [(None, None)]       0           []                               \n",
            "                                                                                                  \n",
            " encoderGRU2 (GRU)              (None, None, 512)    1575936     ['encoderGRU1[0][0]']            \n",
            "                                                                                                  \n",
            " decoderEmbedding (Embedding)   (None, None, 128)    1280000     ['decoderInput[0][0]']           \n",
            "                                                                                                  \n",
            " encoderGRU3 (GRU)              (None, 512)          1575936     ['encoderGRU2[0][0]']            \n",
            "                                                                                                  \n",
            " decoderGRU1 (GRU)              (None, None, 512)    986112      ['decoderEmbedding[0][0]',       \n",
            "                                                                  'encoderGRU3[0][0]']            \n",
            "                                                                                                  \n",
            " decoderGRU2 (GRU)              (None, None, 512)    1575936     ['decoderGRU1[0][0]',            \n",
            "                                                                  'encoderGRU3[0][0]']            \n",
            "                                                                                                  \n",
            " decoderGRU3 (GRU)              (None, None, 512)    1575936     ['decoderGRU2[0][0]',            \n",
            "                                                                  'encoderGRU3[0][0]']            \n",
            "                                                                                                  \n",
            " decoderOutput (Dense)          (None, None, 10000)  5130000     ['decoderGRU3[0][0]']            \n",
            "                                                                                                  \n",
            "==================================================================================================\n",
            "Total params: 15,965,968\n",
            "Trainable params: 15,965,968\n",
            "Non-trainable params: 0\n",
            "__________________________________________________________________________________________________\n"
          ]
        }
      ],
      "source": [
        "modelTrain.summary()"
      ]
    },
    {
      "cell_type": "code",
      "execution_count": null,
      "metadata": {
        "colab": {
          "base_uri": "https://localhost:8080/",
          "height": 856
        },
        "id": "SQHb2oIuTxFP",
        "outputId": "64299f81-309d-43f5-bbe1-aa2732ba4d12"
      },
      "outputs": [
        {
          "output_type": "execute_result",
          "data": {
            "image/png": "[encoded data removed]",
            "text/plain": [
              "<IPython.core.display.Image object>"
            ]
          },
          "metadata": {},
          "execution_count": 331
        }
      ],
      "source": [
        "tf.keras.utils.plot_model(\n",
        "    modelTrain,\n",
        "    to_file=\"model.png\",\n",
        "    show_shapes=False,\n",
        "    show_dtype=False,\n",
        "    show_layer_names=True,\n",
        "    rankdir=\"TB\",\n",
        "    expand_nested=False,\n",
        "    dpi=96,\n",
        "    layer_range=None,\n",
        "    show_layer_activations=False,\n",
        ")\n"
      ]
    },
    {
      "cell_type": "code",
      "execution_count": null,
      "metadata": {
        "id": "6DkDIjRTTxFP"
      },
      "outputs": [],
      "source": [
        "modelTrain.compile(optimizer=RMSprop(learning_rate=1e-3),\n",
        "                  loss='sparse_categorical_crossentropy')"
      ]
    },
    {
      "cell_type": "code",
      "execution_count": null,
      "metadata": {
        "id": "v5d4N0guTxFP"
      },
      "outputs": [],
      "source": [
        "checkPath = '/content/drive/MyDrive/Machine Translation/21_checkpoint.h5'\n",
        "checkPoint = ModelCheckpoint(filepath=checkPath,\n",
        "                            monitor='val_loss',\n",
        "                            verbose=1,\n",
        "                            save_weights_only=True,\n",
        "                            save_best_only=True)"
      ]
    },
    {
      "cell_type": "markdown",
      "metadata": {
        "id": "OC_97-fCTxFP"
      },
      "source": [
        "stopping the optimization when performance worsens on the validation-set."
      ]
    },
    {
      "cell_type": "code",
      "execution_count": null,
      "metadata": {
        "id": "f8tNQ5CMTxFP"
      },
      "outputs": [],
      "source": [
        "earlyStop = EarlyStopping(monitor='val_loss',\n",
        "                         patience=3,\n",
        "                         verbose=1)"
      ]
    },
    {
      "cell_type": "code",
      "execution_count": null,
      "metadata": {
        "id": "YznSLbrdTxFP"
      },
      "outputs": [],
      "source": [
        "callTensorBoard = TensorBoard(log_dir='./21_logs/',\n",
        "                                   histogram_freq=0,\n",
        "                                   write_graph=False)"
      ]
    },
    {
      "cell_type": "code",
      "execution_count": null,
      "metadata": {
        "id": "VKKLC5zITxFQ"
      },
      "outputs": [],
      "source": [
        "callBacks = [checkPoint,\n",
        "            earlyStop,\n",
        "            callTensorBoard]"
      ]
    },
    {
      "cell_type": "markdown",
      "metadata": {
        "id": "nYMsJz4LTxFQ"
      },
      "source": [
        "### Load check point"
      ]
    },
    {
      "cell_type": "code",
      "execution_count": null,
      "metadata": {
        "id": "qYL5nXaCTxFQ",
        "colab": {
          "base_uri": "https://localhost:8080/"
        },
        "outputId": "1af18a5a-5fac-41a0-9ce9-a4c7b1a93a7c"
      },
      "outputs": [
        {
          "output_type": "stream",
          "name": "stdout",
          "text": [
            "Weights Loaded\n"
          ]
        }
      ],
      "source": [
        "try:\n",
        "    modelTrain.load_weights(checkPath)\n",
        "    print('Weights Loaded')\n",
        "except Exception as e:\n",
        "    print('Error with loading weights')\n",
        "    print(e)"
      ]
    },
    {
      "cell_type": "markdown",
      "metadata": {
        "id": "3onfNp9yTxFQ"
      },
      "source": [
        "### Training Model"
      ]
    },
    {
      "cell_type": "code",
      "execution_count": null,
      "metadata": {
        "id": "61sr4sXaTxFQ"
      },
      "outputs": [],
      "source": [
        "xData = {\n",
        "    'encoderInput':encoderInputData,\n",
        "    'decoderInput':decoderInputData\n",
        "}"
      ]
    },
    {
      "cell_type": "code",
      "execution_count": null,
      "metadata": {
        "id": "6MI3s9R4TxFQ"
      },
      "outputs": [],
      "source": [
        "yData= {\n",
        "    'decoderOutput':decoderOutData\n",
        "}"
      ]
    },
    {
      "cell_type": "code",
      "execution_count": null,
      "metadata": {
        "colab": {
          "base_uri": "https://localhost:8080/"
        },
        "id": "sQHbMMoFTxFQ",
        "outputId": "0822df9b-ffa4-439e-803b-cacab167a9d8"
      },
      "outputs": [
        {
          "output_type": "execute_result",
          "data": {
            "text/plain": [
              "0.02031694433157253"
            ]
          },
          "metadata": {},
          "execution_count": 340
        }
      ],
      "source": [
        "validationSplit = 10000 / len(encoderInputData)\n",
        "validationSplit"
      ]
    },
    {
      "cell_type": "code",
      "execution_count": null,
      "metadata": {
        "colab": {
          "base_uri": "https://localhost:8080/"
        },
        "id": "-ErXYI-aTxFQ",
        "outputId": "4e4730c1-c7cf-433c-b5a4-4b4b6e3d6cb1"
      },
      "outputs": [
        {
          "output_type": "stream",
          "name": "stdout",
          "text": [
            "Epoch 1/10\n",
            "1884/1884 [==============================] - ETA: 0s - loss: 1.9814\n",
            "Epoch 1: val_loss improved from inf to 1.80239, saving model to /content/drive/MyDrive/Machine Translation/21_checkpoint.h5\n",
            "1884/1884 [==============================] - 705s 371ms/step - loss: 1.9814 - val_loss: 1.8024\n",
            "Epoch 2/10\n",
            "1884/1884 [==============================] - ETA: 0s - loss: 1.6219\n",
            "Epoch 2: val_loss improved from 1.80239 to 1.65159, saving model to /content/drive/MyDrive/Machine Translation/21_checkpoint.h5\n",
            "1884/1884 [==============================] - 718s 381ms/step - loss: 1.6219 - val_loss: 1.6516\n",
            "Epoch 3/10\n",
            "1884/1884 [==============================] - ETA: 0s - loss: 1.5000\n",
            "Epoch 3: val_loss improved from 1.65159 to 1.57321, saving model to /content/drive/MyDrive/Machine Translation/21_checkpoint.h5\n",
            "1884/1884 [==============================] - 717s 381ms/step - loss: 1.5000 - val_loss: 1.5732\n",
            "Epoch 4/10\n",
            "1884/1884 [==============================] - ETA: 0s - loss: 1.4268\n",
            "Epoch 4: val_loss improved from 1.57321 to 1.52977, saving model to /content/drive/MyDrive/Machine Translation/21_checkpoint.h5\n",
            "1884/1884 [==============================] - 714s 379ms/step - loss: 1.4268 - val_loss: 1.5298\n",
            "Epoch 5/10\n",
            "1884/1884 [==============================] - ETA: 0s - loss: 1.3768\n",
            "Epoch 5: val_loss improved from 1.52977 to 1.49915, saving model to /content/drive/MyDrive/Machine Translation/21_checkpoint.h5\n",
            "1884/1884 [==============================] - 714s 379ms/step - loss: 1.3768 - val_loss: 1.4991\n",
            "Epoch 6/10\n",
            "1884/1884 [==============================] - ETA: 0s - loss: 1.3384\n",
            "Epoch 6: val_loss improved from 1.49915 to 1.48424, saving model to /content/drive/MyDrive/Machine Translation/21_checkpoint.h5\n",
            "1884/1884 [==============================] - 719s 381ms/step - loss: 1.3384 - val_loss: 1.4842\n",
            "Epoch 7/10\n",
            "1884/1884 [==============================] - ETA: 0s - loss: 1.3080\n",
            "Epoch 7: val_loss improved from 1.48424 to 1.46657, saving model to /content/drive/MyDrive/Machine Translation/21_checkpoint.h5\n",
            "1884/1884 [==============================] - 714s 379ms/step - loss: 1.3080 - val_loss: 1.4666\n",
            "Epoch 8/10\n",
            "1884/1884 [==============================] - ETA: 0s - loss: 1.2848\n",
            "Epoch 8: val_loss improved from 1.46657 to 1.46029, saving model to /content/drive/MyDrive/Machine Translation/21_checkpoint.h5\n",
            "1884/1884 [==============================] - 718s 381ms/step - loss: 1.2848 - val_loss: 1.4603\n",
            "Epoch 9/10\n",
            "1884/1884 [==============================] - ETA: 0s - loss: 1.2642\n",
            "Epoch 9: val_loss improved from 1.46029 to 1.45409, saving model to /content/drive/MyDrive/Machine Translation/21_checkpoint.h5\n",
            "1884/1884 [==============================] - 717s 381ms/step - loss: 1.2642 - val_loss: 1.4541\n",
            "Epoch 10/10\n",
            "1884/1884 [==============================] - ETA: 0s - loss: 1.2444\n",
            "Epoch 10: val_loss improved from 1.45409 to 1.45134, saving model to /content/drive/MyDrive/Machine Translation/21_checkpoint.h5\n",
            "1884/1884 [==============================] - 717s 381ms/step - loss: 1.2444 - val_loss: 1.4513\n"
          ]
        },
        {
          "output_type": "execute_result",
          "data": {
            "text/plain": [
              "<keras.callbacks.History at 0x7f4a13dafa10>"
            ]
          },
          "metadata": {},
          "execution_count": 341
        }
      ],
      "source": [
        "modelTrain.fit(x=xData,\n",
        "               y=yData,\n",
        "               epochs=10,\n",
        "               batch_size=256, \n",
        "               validation_split=validationSplit,\n",
        " "
      ]
    },
    {
      "cell_type": "code",
      "execution_count": null,
      "metadata": {
        "id": "teXSLki9TxFR"
      },
      "outputs": [],
      "source": [
        "def translateText(inputText , trueText=None):\n",
        "\n",
        "\n",
        "  tokens = tokenizerSrc.text_to_tokens(inputText,\n",
        "                                       reverse=True,\n",
        "                                       padding=True)\n",
        "\n",
        "  initialStates = modelEncoder.predict(tokens)\n",
        "\n",
        "\n",
        "  maxTokens = tokenizerDest.maxTokens\n",
        "\n",
        "  decoderInput = np.zeros(shape=(1,maxTokens))\n",
        "\n",
        "  tokenInt = startToken\n",
        "\n",
        "  tokensCount = 0\n",
        "\n",
        "  translatedSentence = \"\"\n",
        "  while tokenInt != endToken and tokensCount < maxTokens:\n",
        "\n",
        "\n",
        "    decoderInput[0:tokensCount] = tokenInt\n",
        "\n",
        "    xData = {\n",
        "    'decoderInput':decoderInput,\n",
        "    'decoderIntialState':initialStates\n",
        "      }\n",
        "\n",
        "\n",
        "    decoderOutput = decoderModel.predict(xData)\n",
        "\n",
        "    tokenOneHot = decoderOutput[0,tokensCount,:]\n",
        "    \n",
        "\n",
        "    \n",
        "    tokenInt = np.argmax(tokenOneHot)\n",
        "\n",
        "    wordPredicted = tokenizerDest.token_to_word(tokenInt)\n",
        "\n",
        "\n",
        "\n",
        "    translatedSentence += (\" \" + wordPredicted)\n",
        "\n",
        "    tokensCount +=1\n",
        "\n",
        "\n",
        "  print(\"Input text:\")\n",
        "  print(inputText)\n",
        "  print()\n",
        "\n",
        "  # Print the translated output-text.\n",
        "  print(\"Translated text:\")\n",
        "  print(translatedSentence)\n",
        "  print()\n",
        "\n",
        "  # Optionally print the true translated text.\n",
        "  if trueText is not None:\n",
        "      print(\"True output text:\")\n",
        "      print(trueText)\n",
        "      print()\n",
        "\n",
        "\n",
        "\n"
      ]
    },
    {
      "cell_type": "code",
      "source": [
        "idx = 3\n",
        "translateText(dataSrc[idx],dataDest[idx])"
      ],
      "metadata": {
        "colab": {
          "base_uri": "https://localhost:8080/"
        },
        "id": "CWPnM-24sj_X",
        "outputId": "0ce6fcb5-8896-40a0-ec87-9412712c9486"
      },
      "execution_count": null,
      "outputs": [
        {
          "output_type": "stream",
          "name": "stdout",
          "text": [
            "Input text:\n",
            "De har udtrykt ønske om en debat om dette emne i løbet af mødeperioden.\n",
            "\n",
            "Translated text:\n",
            " you have expressed a wish to this debate on this debate eeee\n",
            "\n",
            "True output text:\n",
            "ssss You have requested a debate on this subject in the course of the next few days, during this part-session. eeee\n",
            "\n"
          ]
        }
      ]
    },
    {
      "cell_type": "code",
      "source": [
        "idx = 2\n",
        "translateText(dataSrc[idx],dataDest[idx])"
      ],
      "metadata": {
        "colab": {
          "base_uri": "https://localhost:8080/"
        },
        "id": "5dN3BH3ysvmX",
        "outputId": "01e1e972-def3-4948-8a93-3e77960311cd"
      },
      "execution_count": null,
      "outputs": [
        {
          "output_type": "stream",
          "name": "stdout",
          "text": [
            "Input text:\n",
            "Som De kan se, indfandt det store \"år 2000-problem\" sig ikke. Til gengæld har borgerne i en del af medlemslandene været ramt af meget forfærdelige naturkatastrofer.\n",
            "\n",
            "Translated text:\n",
            " you will be the population in 2000 but the population and you have been aware of the population and the population and the population has been able to 2000 and the population has been able to 2000 and the population has been able to 2000 and the most aware of the most aware of the most member\n",
            "\n",
            "True output text:\n",
            "ssss Although, as you will have seen, the dreaded 'millennium bug' failed to materialise, still the people in a number of countries suffered a series of natural disasters that truly were dreadful. eeee\n",
            "\n"
          ]
        }
      ]
    },
    {
      "cell_type": "code",
      "source": [],
      "metadata": {
        "id": "_ngnAHCGtEn-"
      },
      "execution_count": null,
      "outputs": []
    }
  ],
  "metadata": {
    "colab": {
      "collapsed_sections": [],
      "provenance": [],
      "include_colab_link": true
    },
    "kernelspec": {
      "display_name": "Python 3",
      "language": "python",
      "name": "python3"
    },
    "language_info": {
      "codemirror_mode": {
        "name": "ipython",
        "version": 3
      },
      "file_extension": ".py",
      "mimetype": "text/x-python",
      "name": "python",
      "nbconvert_exporter": "python",
      "pygments_lexer": "ipython3",
      "version": "3.7.6"
    },
    "accelerator": "GPU"
  },
  "nbformat": 4,
  "nbformat_minor": 0
}